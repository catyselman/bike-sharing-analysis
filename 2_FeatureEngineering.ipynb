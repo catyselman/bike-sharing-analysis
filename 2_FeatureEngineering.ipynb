{
 "cells": [
  {
   "cell_type": "code",
   "execution_count": 1,
   "metadata": {},
   "outputs": [],
   "source": [
    "# Outside modules\n",
    "import warnings; warnings.simplefilter('ignore') # suppress warnings\n",
    "from sklearn.linear_model import LinearRegression\n",
    "from sklearn.ensemble import RandomForestRegressor, GradientBoostingRegressor\n",
    "import joblib\n",
    "import pandas as pd\n",
    "import dask.dataframe as dd\n",
    "\n",
    "# Home-made modules\n",
    "from utils import *\n",
    "from preprocessing import *\n",
    "from feature_creation import *"
   ]
  },
  {
   "cell_type": "code",
   "execution_count": 2,
   "metadata": {},
   "outputs": [],
   "source": [
    "client = Client()"
   ]
  },
  {
   "cell_type": "code",
   "execution_count": 3,
   "metadata": {},
   "outputs": [],
   "source": [
    "data = dd.read_csv('https://gist.githubusercontent.com/catyselman/9353e4e480ddf2db44b44a79e14718b5/raw/ded23e586ca5db1b4a566b1e289acd12ebf69357/bikeshare_hourly.csv', blocksize=25e4)"
   ]
  },
  {
   "cell_type": "code",
   "execution_count": 4,
   "metadata": {},
   "outputs": [
    {
     "data": {
      "text/plain": [
       "instant         int64\n",
       "dteday         object\n",
       "season          int64\n",
       "yr              int64\n",
       "mnth            int64\n",
       "hr              int64\n",
       "holiday         int64\n",
       "weekday         int64\n",
       "workingday      int64\n",
       "weathersit      int64\n",
       "temp          float64\n",
       "atemp         float64\n",
       "hum           float64\n",
       "windspeed     float64\n",
       "casual          int64\n",
       "registered      int64\n",
       "cnt             int64\n",
       "dtype: object"
      ]
     },
     "execution_count": 4,
     "metadata": {},
     "output_type": "execute_result"
    }
   ],
   "source": [
    "data.dtypes"
   ]
  },
  {
   "cell_type": "code",
   "execution_count": 5,
   "metadata": {},
   "outputs": [],
   "source": [
    "data['realtemp']=(data.temp*41)"
   ]
  },
  {
   "cell_type": "code",
   "execution_count": 6,
   "metadata": {},
   "outputs": [],
   "source": [
    "pp = [drop_registered, drop_casual, drop_date, year_as_bool,\\\n",
    "      season_as_category, month_as_category, weekday_as_category, \\\n",
    "      hour_as_category, holiday_as_bool, working_day_as_bool, weather_sit_as_category, categorize_columns,\n",
    "     ]\n",
    "\n",
    "lm = {\"name\": \"Linear Regression\",\n",
    "      \"model\": LinearRegression(),\n",
    "      \"params\": {}\\\n",
    "     }\n",
    "\n",
    "rfr = {\"name\": \"Random Forest\",\n",
    "       \"model\": RandomForestRegressor(),\n",
    "       \"params\": {\"random_state\": [SEED]}\n",
    "      }\n",
    "\n",
    "models = [lm, rfr ]"
   ]
  },
  {
   "cell_type": "markdown",
   "metadata": {},
   "source": [
    "### Baseline - No feature engineering"
   ]
  },
  {
   "cell_type": "code",
   "execution_count": 7,
   "metadata": {
    "scrolled": true
   },
   "outputs": [
    {
     "name": "stdout",
     "output_type": "stream",
     "text": [
      "Beginning pipeline at 2019-05-17 21:20:18.049674\n",
      "\n",
      "Performing preprocessing steps...\n",
      "\tDropping the registered variable since we won't have this information\n",
      "\tDropping the causual variable since we won't have this information\n",
      "\tDropping the date variable since this information is encoded in other variables\n",
      "\tConverting year to a boolean variable...\n",
      "\tConverting season to a categorical variable...\n",
      "\tConverting month to a categorical variable...\n",
      "\tConverting day of week to a categorical variable...\n",
      "\tConverting hour of day to a categorical variable...\n",
      "\tConverting holiday or not to a boolean variable...\n",
      "\tConverting holiday or not to a boolean variable...\n",
      "\tConverting weather situation to a categorical variable...\n",
      "Preprocessing completed at 2019-05-17 21:20:18.355695, performed 12 steps\n",
      "New Shape of data: 15\n",
      "\n",
      "Performing feature creation...\n",
      "Feature Creation completed at 2019-05-17 21:20:18.357568, performed 0 steps\n",
      "New Shape of data: 15\n",
      "\n",
      "Dummifying...\n",
      "New Shape of data: 61\n",
      "\n",
      "Performing dimensionality reduction...\n",
      "Dimensionality reduction completed at 2019-05-17 21:20:21.149002, performed 0 steps\n",
      "New Shape of data: 61\n",
      "\n",
      "Performing feature selection...\n",
      "Feature Selection completed at 2019-05-17 21:20:21.153828, performed 0 steps\n",
      "New Shape of train: 61\n",
      "\n",
      "Scoring models....\n",
      "\tAverage result for best Linear Regression: -1.7684467063402317e+17 +/- 250096131644038560.00000\n",
      "\tBest parameters for Linear Regression: {}\n",
      "\tAverage result for best Random Forest: 0.7482572744680976 +/- 0.03732\n",
      "\tBest parameters for Random Forest: {'random_state': 20192602}\n",
      "\n",
      "Best model: RandomForestRegressor with params {'random_state': 20192602}\n",
      "Evaluating model on the holdout...\n",
      "Final R2: 0.8340923160798279\n",
      "\n",
      "Pipeline finished! Completed execution at 2019-05-17 21:20:48.783831. Returning model...\n"
     ]
    }
   ],
   "source": [
    "best_model = pipeline_casero(data, preprocessing=pp, models=models)"
   ]
  },
  {
   "cell_type": "markdown",
   "metadata": {},
   "source": [
    "### Basic Feature Engineering"
   ]
  },
  {
   "cell_type": "code",
   "execution_count": 8,
   "metadata": {},
   "outputs": [
    {
     "name": "stdout",
     "output_type": "stream",
     "text": [
      "Beginning pipeline at 2019-05-17 21:20:48.797580\n",
      "\n",
      "Performing preprocessing steps...\n",
      "\tDropping the registered variable since we won't have this information\n",
      "\tDropping the causual variable since we won't have this information\n",
      "\tDropping the date variable since this information is encoded in other variables\n",
      "\tConverting year to a boolean variable...\n",
      "\tConverting season to a categorical variable...\n",
      "\tConverting month to a categorical variable...\n",
      "\tConverting day of week to a categorical variable...\n",
      "\tConverting hour of day to a categorical variable...\n",
      "\tConverting holiday or not to a boolean variable...\n",
      "\tConverting holiday or not to a boolean variable...\n",
      "\tConverting weather situation to a categorical variable...\n",
      "Preprocessing completed at 2019-05-17 21:20:48.982627, performed 12 steps\n",
      "New Shape of data: 15\n",
      "\n",
      "Performing feature creation...\n",
      "\tAdding variable for Commute Hours, 1 for yes and 0 for false\n",
      "\tAdding clustering variable based on weather-related features...\n",
      "\n",
      "Dummifying to create clusters...\n",
      "New Shape of data: 9\n",
      "\n",
      "Feature Creation completed at 2019-05-17 21:21:07.526901, performed 2 steps\n",
      "New Shape of data: 17\n",
      "\n",
      "Dummifying...\n",
      "New Shape of data: 67\n",
      "\n",
      "Performing dimensionality reduction...\n",
      "Dimensionality reduction completed at 2019-05-17 21:21:11.029921, performed 0 steps\n",
      "New Shape of data: 67\n",
      "\n",
      "Performing feature selection...\n",
      "Feature Selection completed at 2019-05-17 21:21:11.043816, performed 0 steps\n",
      "New Shape of train: 67\n",
      "\n",
      "Scoring models....\n",
      "\tAverage result for best Linear Regression: -2086850564506795.8 +/- 2951252370971461.00000\n",
      "\tBest parameters for Linear Regression: {}\n",
      "\tAverage result for best Random Forest: 0.7446408392371268 +/- 0.03405\n",
      "\tBest parameters for Random Forest: {'random_state': 20192602}\n",
      "\n",
      "Best model: RandomForestRegressor with params {'random_state': 20192602}\n",
      "Evaluating model on the holdout...\n",
      "Final R2: 0.8332153901269547\n",
      "\n",
      "Pipeline finished! Completed execution at 2019-05-17 21:22:05.642744. Returning model...\n"
     ]
    }
   ],
   "source": [
    "fc = [commute_hours, weather_cluster]\n",
    "best_model = pipeline_casero(data, preprocessing=pp, creation=fc, models=models)"
   ]
  },
  {
   "cell_type": "markdown",
   "metadata": {},
   "source": [
    "### Predicting Casual and Registered Counts"
   ]
  },
  {
   "cell_type": "code",
   "execution_count": 9,
   "metadata": {},
   "outputs": [
    {
     "name": "stdout",
     "output_type": "stream",
     "text": [
      "Beginning pipeline at 2019-05-17 21:22:05.664088\n",
      "\n",
      "Performing preprocessing steps...\n",
      "\tDropping the registered variable since we won't have this information\n",
      "\tDropping the causual variable since we won't have this information\n",
      "\tDropping the date variable since this information is encoded in other variables\n",
      "\tConverting year to a boolean variable...\n",
      "\tConverting season to a categorical variable...\n",
      "\tConverting month to a categorical variable...\n",
      "\tConverting day of week to a categorical variable...\n",
      "\tConverting hour of day to a categorical variable...\n",
      "\tConverting holiday or not to a boolean variable...\n",
      "\tConverting holiday or not to a boolean variable...\n",
      "\tConverting weather situation to a categorical variable...\n",
      "Preprocessing completed at 2019-05-17 21:22:05.983890, performed 12 steps\n",
      "New Shape of data: 15\n",
      "\n",
      "Performing feature creation...\n",
      "\tAdding casual_forecast variable...\n",
      "Dummifying...\n",
      "New Shape of data: 60\n",
      "\n",
      "\t\tPredictions for GridSearchCV on casual: 0.46046 +/- 0.12867\n",
      "\tAdding registered_forecast variable...\n",
      "Dummifying...\n",
      "New Shape of data: 60\n",
      "\n",
      "\t\tPredictions for GridSearchCV on registered: 0.82841 +/- 0.05005\n",
      "Feature Creation completed at 2019-05-17 21:22:31.292513, performed 1 steps\n",
      "New Shape of data: 17\n",
      "\n",
      "Dummifying...\n",
      "New Shape of data: 63\n",
      "\n",
      "Performing dimensionality reduction...\n",
      "Dimensionality reduction completed at 2019-05-17 21:22:32.971653, performed 0 steps\n",
      "New Shape of data: 63\n",
      "\n",
      "Performing feature selection...\n",
      "Feature Selection completed at 2019-05-17 21:22:32.976024, performed 0 steps\n",
      "New Shape of train: 63\n",
      "\n",
      "Scoring models....\n",
      "\tAverage result for best Linear Regression: -8481075114153183.0 +/- 11994051449940378.00000\n",
      "\tBest parameters for Linear Regression: {}\n",
      "\tAverage result for best Random Forest: -0.1699301774085616 +/- 1.02613\n",
      "\tBest parameters for Random Forest: {'random_state': 20192602}\n",
      "\n",
      "Best model: RandomForestRegressor with params {'random_state': 20192602}\n",
      "Evaluating model on the holdout...\n",
      "Final R2: 0.7645785871877668\n",
      "\n",
      "Pipeline finished! Completed execution at 2019-05-17 21:23:00.220858. Returning model...\n"
     ]
    }
   ],
   "source": [
    "fc = [prediction_forecasts]\n",
    "best_model = pipeline_casero(data, preprocessing=pp, creation=fc, models=models)"
   ]
  },
  {
   "cell_type": "markdown",
   "metadata": {},
   "source": [
    "### Basic Feature Engineering  Predicting Casual + Registered Counts "
   ]
  },
  {
   "cell_type": "code",
   "execution_count": 10,
   "metadata": {},
   "outputs": [
    {
     "name": "stdout",
     "output_type": "stream",
     "text": [
      "Beginning pipeline at 2019-05-17 21:23:00.246651\n",
      "\n",
      "Performing preprocessing steps...\n",
      "\tDropping the registered variable since we won't have this information\n",
      "\tDropping the causual variable since we won't have this information\n",
      "\tDropping the date variable since this information is encoded in other variables\n",
      "\tConverting year to a boolean variable...\n",
      "\tConverting season to a categorical variable...\n",
      "\tConverting month to a categorical variable...\n",
      "\tConverting day of week to a categorical variable...\n",
      "\tConverting hour of day to a categorical variable...\n",
      "\tConverting holiday or not to a boolean variable...\n",
      "\tConverting holiday or not to a boolean variable...\n",
      "\tConverting weather situation to a categorical variable...\n",
      "Preprocessing completed at 2019-05-17 21:23:00.810940, performed 12 steps\n",
      "New Shape of data: 15\n",
      "\n",
      "Performing feature creation...\n",
      "\tAdding variable for Commute Hours, 1 for yes and 0 for false\n",
      "\tAdding clustering variable based on weather-related features...\n",
      "\n",
      "Dummifying to create clusters...\n",
      "New Shape of data: 9\n",
      "\n",
      "\tAdding casual_forecast variable...\n",
      "Dummifying...\n",
      "New Shape of data: 66\n",
      "\n",
      "\t\tPredictions for GridSearchCV on casual: 0.46206 +/- 0.12986\n",
      "\tAdding registered_forecast variable...\n",
      "Dummifying...\n",
      "New Shape of data: 66\n",
      "\n",
      "\t\tPredictions for GridSearchCV on registered: 0.82506 +/- 0.04872\n",
      "Feature Creation completed at 2019-05-17 21:23:48.679901, performed 3 steps\n",
      "New Shape of data: 19\n",
      "\n",
      "Dummifying...\n",
      "New Shape of data: 69\n",
      "\n",
      "Performing dimensionality reduction...\n",
      "Dimensionality reduction completed at 2019-05-17 21:23:52.110161, performed 0 steps\n",
      "New Shape of data: 69\n",
      "\n",
      "Performing feature selection...\n",
      "Feature Selection completed at 2019-05-17 21:23:52.115701, performed 0 steps\n",
      "New Shape of train: 69\n",
      "\n",
      "Scoring models....\n",
      "\tAverage result for best Linear Regression: -0.22137073091406695 +/- 1.10995\n",
      "\tBest parameters for Linear Regression: {}\n",
      "\tAverage result for best Random Forest: -0.15949001024040885 +/- 1.03768\n",
      "\tBest parameters for Random Forest: {'random_state': 20192602}\n",
      "\n",
      "Best model: RandomForestRegressor with params {'random_state': 20192602}\n",
      "Evaluating model on the holdout...\n",
      "Final R2: 0.769428026372132\n",
      "\n",
      "Pipeline finished! Completed execution at 2019-05-17 21:24:42.598404. Returning model...\n"
     ]
    }
   ],
   "source": [
    "fc = [commute_hours, weather_cluster, prediction_forecasts]\n",
    "best_model = pipeline_casero(data, preprocessing=pp, creation=fc, models=models)"
   ]
  },
  {
   "cell_type": "markdown",
   "metadata": {},
   "source": [
    "### Genetic Programming"
   ]
  },
  {
   "cell_type": "code",
   "execution_count": 11,
   "metadata": {},
   "outputs": [
    {
     "name": "stdout",
     "output_type": "stream",
     "text": [
      "Beginning pipeline at 2019-05-17 21:24:42.619025\n",
      "\n",
      "Performing preprocessing steps...\n",
      "\tDropping the registered variable since we won't have this information\n",
      "\tDropping the causual variable since we won't have this information\n",
      "\tDropping the date variable since this information is encoded in other variables\n",
      "\tConverting year to a boolean variable...\n",
      "\tConverting season to a categorical variable...\n",
      "\tConverting month to a categorical variable...\n",
      "\tConverting day of week to a categorical variable...\n",
      "\tConverting hour of day to a categorical variable...\n",
      "\tConverting holiday or not to a boolean variable...\n",
      "\tConverting holiday or not to a boolean variable...\n",
      "\tConverting weather situation to a categorical variable...\n",
      "Preprocessing completed at 2019-05-17 21:24:43.013945, performed 12 steps\n",
      "New Shape of data: 15\n",
      "\n",
      "Performing feature creation...\n",
      "Creating features through genetic programming...\n",
      "    |    Population Average   |             Best Individual              |\n",
      "---- ------------------------- ------------------------------------------ ----------\n",
      " Gen   Length          Fitness   Length          Fitness      OOB Fitness  Time Left\n",
      "   0    11.14 0.1808808750731385        7 0.5852657843605056 0.5894272501739322      2.82m\n",
      "   1     8.55 0.3592152557612519       17 0.6035646146945572 0.5972408997335465      2.30m\n",
      "   2    11.99 0.4403354385105997       27 0.6265141976022572 0.6156408822976039      2.17m\n",
      "   3    13.16 0.47486490343633564       14 0.6460956941382007 0.6059991793798425      2.41m\n",
      "   4    14.35 0.4807677968913098       25 0.6506932626614115 0.6340110643278334      2.39m\n",
      "   5    16.66 0.4807382295211114       15 0.6581655886980234 0.696621662703302      2.28m\n",
      "   6    18.23 0.49960329452768193       15 0.6751434799933264 0.6867345981064211      2.24m\n",
      "   7    21.88 0.515156932458548       31 0.6835509945429065 0.6787911759174367      2.10m\n",
      "   8    23.28 0.5205654267819757       43 0.6964998457349607 0.7375188714476538      1.97m\n",
      "   9    25.88 0.5356563536003769       31 0.746065481611731 0.7204252798971661      1.85m\n",
      "  10    29.74 0.5626962202620295       34 0.7453407380208867 0.7495953583220699      1.82m\n",
      "  11    36.72 0.5888700450672868       34 0.7487658471156078 0.7178071404439976      1.68m\n",
      "  12    37.12 0.5975686529238264       33 0.7496716925714354 0.7344184367120002      1.51m\n",
      "  13    35.54 0.6024115660509827       45 0.7561001715830467 0.7585361623218719      1.30m\n",
      "  14    33.79 0.6194463576471517       45 0.7577773145121041 0.7435035428726615      1.19m\n",
      "  15    33.23 0.6185904824044498       45 0.758469424622274 0.7365455841915781     59.24s\n",
      "  16    32.63 0.6130992352085323       45 0.7574767896117333 0.7466317703506375     45.93s\n",
      "  17    33.08 0.6128645488047553       45 0.758839292202796 0.7355206382750257     30.99s\n",
      "  18    33.05 0.6072799140657911       48 0.7594441216024336 0.7668854975273729     15.76s\n",
      "  19    34.02 0.616627732935081       40 0.7617858146312358 0.7328782690849752      0.00s\n",
      "Number of features created out of genetic programing: (17379, 15)\n",
      "Feature Creation completed at 2019-05-17 21:30:11.265234, performed 1 steps\n",
      "New Shape of data: 30\n",
      "\n",
      "Dummifying...\n",
      "New Shape of data: 76\n",
      "\n",
      "Performing dimensionality reduction...\n",
      "Dimensionality reduction completed at 2019-05-17 21:30:12.867148, performed 0 steps\n",
      "New Shape of data: 76\n",
      "\n",
      "Performing feature selection...\n",
      "Feature Selection completed at 2019-05-17 21:30:12.871198, performed 0 steps\n",
      "New Shape of train: 76\n",
      "\n",
      "Scoring models....\n",
      "\tAverage result for best Linear Regression: -7.088088468105472e+17 +/- 1002407084289509248.00000\n",
      "\tBest parameters for Linear Regression: {}\n",
      "\tAverage result for best Random Forest: 0.37670523931031685 +/- 0.22524\n",
      "\tBest parameters for Random Forest: {'random_state': 20192602}\n",
      "\n",
      "Best model: LinearRegression with params {}\n",
      "Evaluating model on the holdout...\n",
      "Final R2: 0.618202025032728\n",
      "\n",
      "Pipeline finished! Completed execution at 2019-05-17 21:30:53.110013. Returning model...\n"
     ]
    }
   ],
   "source": [
    "fc = [genetic_programming]\n",
    "best_model = pipeline_casero(data, preprocessing=pp, creation=fc, models=models)"
   ]
  },
  {
   "cell_type": "markdown",
   "metadata": {},
   "source": [
    "### Deep Feature Synthesis"
   ]
  },
  {
   "cell_type": "code",
   "execution_count": 12,
   "metadata": {},
   "outputs": [
    {
     "name": "stdout",
     "output_type": "stream",
     "text": [
      "Beginning pipeline at 2019-05-17 21:30:53.145165\n",
      "\n",
      "Performing preprocessing steps...\n",
      "\tDropping the registered variable since we won't have this information\n",
      "\tDropping the causual variable since we won't have this information\n",
      "\tDropping the date variable since this information is encoded in other variables\n",
      "\tConverting year to a boolean variable...\n",
      "\tConverting season to a categorical variable...\n",
      "\tConverting month to a categorical variable...\n",
      "\tConverting day of week to a categorical variable...\n",
      "\tConverting hour of day to a categorical variable...\n",
      "\tConverting holiday or not to a boolean variable...\n",
      "\tConverting holiday or not to a boolean variable...\n",
      "\tConverting weather situation to a categorical variable...\n",
      "Preprocessing completed at 2019-05-17 21:30:53.475763, performed 12 steps\n",
      "New Shape of data: 15\n",
      "\n",
      "Performing feature creation...\n",
      "\tPerforming Deep Feature Synthesis...\n",
      "\t\tCreated feature seasons.STD(bikeshare_hourly.holiday)\n",
      "\t\tCreated feature seasons.STD(bikeshare_hourly.workingday)\n",
      "\t\tCreated feature seasons.STD(bikeshare_hourly.temp)\n",
      "\t\tCreated feature seasons.STD(bikeshare_hourly.atemp)\n",
      "\t\tCreated feature seasons.STD(bikeshare_hourly.hum)\n",
      "\t\tCreated feature seasons.STD(bikeshare_hourly.windspeed)\n",
      "\t\tCreated feature seasons.STD(bikeshare_hourly.realtemp)\n",
      "\t\tCreated feature seasons.MAX(bikeshare_hourly.yr)\n",
      "\t\tCreated feature seasons.MAX(bikeshare_hourly.holiday)\n",
      "\t\tCreated feature seasons.MAX(bikeshare_hourly.workingday)\n",
      "\t\tCreated feature seasons.MAX(bikeshare_hourly.temp)\n",
      "\t\tCreated feature seasons.MAX(bikeshare_hourly.atemp)\n",
      "\t\tCreated feature seasons.MAX(bikeshare_hourly.hum)\n",
      "\t\tCreated feature seasons.MAX(bikeshare_hourly.windspeed)\n",
      "\t\tCreated feature seasons.MAX(bikeshare_hourly.realtemp)\n",
      "\t\tCreated feature seasons.MIN(bikeshare_hourly.yr)\n",
      "\t\tCreated feature seasons.MIN(bikeshare_hourly.holiday)\n",
      "\t\tCreated feature seasons.MIN(bikeshare_hourly.workingday)\n",
      "\t\tCreated feature seasons.MIN(bikeshare_hourly.temp)\n",
      "\t\tCreated feature seasons.MIN(bikeshare_hourly.atemp)\n",
      "\t\tCreated feature seasons.MIN(bikeshare_hourly.hum)\n",
      "\t\tCreated feature seasons.MIN(bikeshare_hourly.windspeed)\n",
      "\t\tCreated feature seasons.MIN(bikeshare_hourly.realtemp)\n",
      "\t\tCreated feature seasons.MEAN(bikeshare_hourly.yr)\n",
      "\t\tCreated feature seasons.MEAN(bikeshare_hourly.holiday)\n",
      "\t\tCreated feature seasons.MEAN(bikeshare_hourly.workingday)\n",
      "\t\tCreated feature seasons.MEAN(bikeshare_hourly.temp)\n",
      "\t\tCreated feature seasons.MEAN(bikeshare_hourly.atemp)\n",
      "\t\tCreated feature seasons.MEAN(bikeshare_hourly.hum)\n",
      "\t\tCreated feature seasons.MEAN(bikeshare_hourly.windspeed)\n",
      "\t\tCreated feature seasons.MEAN(bikeshare_hourly.realtemp)\n",
      "Feature Creation completed at 2019-05-17 21:31:03.017956, performed 1 steps\n",
      "New Shape of data: 47\n",
      "\n",
      "Dummifying...\n",
      "New Shape of data: 93\n",
      "\n",
      "Performing dimensionality reduction...\n",
      "Dimensionality reduction completed at 2019-05-17 21:31:03.126929, performed 0 steps\n",
      "New Shape of data: 93\n",
      "\n",
      "Performing feature selection...\n",
      "Feature Selection completed at 2019-05-17 21:31:03.131641, performed 0 steps\n",
      "New Shape of train: 93\n",
      "\n",
      "Scoring models....\n",
      "\tAverage result for best Linear Regression: -1.7423192257702797e+19 +/- 24640114790677200896.00000\n",
      "\tBest parameters for Linear Regression: {}\n",
      "\tAverage result for best Random Forest: 0.739244534771194 +/- 0.04080\n",
      "\tBest parameters for Random Forest: {'random_state': 20192602}\n",
      "\n",
      "Best model: RandomForestRegressor with params {'random_state': 20192602}\n",
      "Evaluating model on the holdout...\n",
      "Final R2: 0.8376851798422487\n",
      "\n",
      "Pipeline finished! Completed execution at 2019-05-17 21:31:14.728591. Returning model...\n"
     ]
    }
   ],
   "source": [
    "fc = [deep_features]\n",
    "best_model = pipeline_casero(data, preprocessing=pp, creation=fc, models=models)"
   ]
  },
  {
   "cell_type": "code",
   "execution_count": null,
   "metadata": {},
   "outputs": [],
   "source": []
  }
 ],
 "metadata": {
  "kernelspec": {
   "display_name": "Python 3",
   "language": "python",
   "name": "python3"
  },
  "language_info": {
   "codemirror_mode": {
    "name": "ipython",
    "version": 3
   },
   "file_extension": ".py",
   "mimetype": "text/x-python",
   "name": "python",
   "nbconvert_exporter": "python",
   "pygments_lexer": "ipython3",
   "version": "3.7.2"
  }
 },
 "nbformat": 4,
 "nbformat_minor": 2
}

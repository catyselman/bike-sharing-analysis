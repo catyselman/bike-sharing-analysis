{
 "cells": [
  {
   "cell_type": "code",
   "execution_count": 1,
   "metadata": {},
   "outputs": [],
   "source": [
    "# Outside modules\n",
    "import warnings; warnings.simplefilter('ignore') # suppress warnings\n",
    "from sklearn.linear_model import LinearRegression\n",
    "from sklearn.ensemble import RandomForestRegressor, GradientBoostingRegressor\n",
    "import joblib\n",
    "import pandas as pd\n",
    "\n",
    "import dask.dataframe as dd\n",
    "\n",
    "# Home-made modules\n",
    "from utils import *\n",
    "from preprocessing import *"
   ]
  },
  {
   "cell_type": "code",
   "execution_count": 2,
   "metadata": {},
   "outputs": [],
   "source": [
    "client = Client()"
   ]
  },
  {
   "cell_type": "code",
   "execution_count": 3,
   "metadata": {},
   "outputs": [],
   "source": [
    "data = dd.read_csv('https://gist.githubusercontent.com/catyselman/9353e4e480ddf2db44b44a79e14718b5/raw/ded23e586ca5db1b4a566b1e289acd12ebf69357/bikeshare_hourly.csv', blocksize=25e4)"
   ]
  },
  {
   "cell_type": "code",
   "execution_count": 4,
   "metadata": {},
   "outputs": [
    {
     "data": {
      "text/plain": [
       "instant         int64\n",
       "dteday         object\n",
       "season          int64\n",
       "yr              int64\n",
       "mnth            int64\n",
       "hr              int64\n",
       "holiday         int64\n",
       "weekday         int64\n",
       "workingday      int64\n",
       "weathersit      int64\n",
       "temp          float64\n",
       "atemp         float64\n",
       "hum           float64\n",
       "windspeed     float64\n",
       "casual          int64\n",
       "registered      int64\n",
       "cnt             int64\n",
       "dtype: object"
      ]
     },
     "execution_count": 4,
     "metadata": {},
     "output_type": "execute_result"
    }
   ],
   "source": [
    "data.dtypes"
   ]
  },
  {
   "cell_type": "code",
   "execution_count": 5,
   "metadata": {},
   "outputs": [],
   "source": [
    "data['realtemp']=(data.temp*41)"
   ]
  },
  {
   "cell_type": "code",
   "execution_count": 6,
   "metadata": {},
   "outputs": [],
   "source": [
    "pp = [drop_registered, drop_casual, drop_date, year_as_bool,\\\n",
    "      season_as_category, month_as_category, weekday_as_category, \\\n",
    "      hour_as_category, holiday_as_bool, working_day_as_bool, weather_sit_as_category, categorize_columns,\n",
    "     ]\n",
    "\n",
    "lm = {\"name\": \"Linear Regression\",\n",
    "      \"model\": LinearRegression(),\n",
    "      \"params\": {}\\\n",
    "     }\n",
    "\n",
    "rfr = {\"name\": \"Random Forest\",\n",
    "       \"model\": RandomForestRegressor(),\n",
    "       \"params\": {\"random_state\": [SEED]}\n",
    "      }\n",
    "\n",
    "models = [lm, rfr ]"
   ]
  },
  {
   "cell_type": "markdown",
   "metadata": {},
   "source": [
    "### Baseline - No feature engineering"
   ]
  },
  {
   "cell_type": "code",
   "execution_count": 7,
   "metadata": {
    "scrolled": true
   },
   "outputs": [
    {
     "name": "stdout",
     "output_type": "stream",
     "text": [
      "Beginning pipeline at 2019-05-16 23:44:34.991576\n",
      "\n",
      "Performing preprocessing steps...\n",
      "\tDropping the registered variable since we won't have this information\n",
      "\tDropping the causual variable since we won't have this information\n",
      "\tDropping the date variable since this information is encoded in other variables\n",
      "\tConverting year to a boolean variable...\n",
      "\tConverting season to a categorical variable...\n",
      "\tConverting month to a categorical variable...\n",
      "\tConverting day of week to a categorical variable...\n",
      "\tConverting hour of day to a categorical variable...\n",
      "\tConverting holiday or not to a boolean variable...\n",
      "\tConverting holiday or not to a boolean variable...\n",
      "\tConverting weather situation to a categorical variable...\n",
      "Preprocessing completed at 2019-05-16 23:44:36.076085, performed 12 steps\n",
      "New Shape of data: 15\n",
      "\n",
      "Performing feature creation...\n",
      "Feature Creation completed at 2019-05-16 23:44:36.079138, performed 0 steps\n",
      "New Shape of data: 15\n",
      "\n",
      "Dummifying...\n",
      "New Shape of data: 61\n",
      "\n",
      "Performing dimensionality reduction...\n",
      "Dimensionality reduction completed at 2019-05-16 23:44:43.609069, performed 0 steps\n",
      "New Shape of data: 61\n",
      "\n",
      "Performing feature selection...\n",
      "Feature Selection completed at 2019-05-16 23:44:43.618232, performed 0 steps\n",
      "New Shape of train: 61\n",
      "\n",
      "Scoring models....\n",
      "\tAverage result for best Linear Regression: -42534369028029.84 +/- 60152681546422.73438\n",
      "\tBest parameters for Linear Regression: {}\n",
      "\tAverage result for best Random Forest: 0.7452870273279593 +/- 0.03942\n",
      "\tBest parameters for Random Forest: {'random_state': 20192602}\n",
      "\n",
      "Best model: RandomForestRegressor with params {'random_state': 20192602}\n",
      "Evaluating model on the holdout...\n",
      "Final R2: 0.8281295546029145\n",
      "\n",
      "Pipeline finished! Completed execution at 2019-05-16 23:45:56.317013. Returning model...\n"
     ]
    }
   ],
   "source": [
    "best_model = pipeline_casero(data, preprocessing=pp, models=models)"
   ]
  },
  {
   "cell_type": "code",
   "execution_count": null,
   "metadata": {},
   "outputs": [],
   "source": []
  }
 ],
 "metadata": {
  "kernelspec": {
   "display_name": "Python 3",
   "language": "python",
   "name": "python3"
  },
  "language_info": {
   "codemirror_mode": {
    "name": "ipython",
    "version": 3
   },
   "file_extension": ".py",
   "mimetype": "text/x-python",
   "name": "python",
   "nbconvert_exporter": "python",
   "pygments_lexer": "ipython3",
   "version": "3.7.2"
  }
 },
 "nbformat": 4,
 "nbformat_minor": 2
}
